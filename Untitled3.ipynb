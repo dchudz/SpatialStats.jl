{
 "metadata": {
  "language": "Julia",
  "name": ""
 },
 "nbformat": 3,
 "nbformat_minor": 0,
 "worksheets": [
  {
   "cells": [
    {
     "cell_type": "code",
     "collapsed": false,
     "input": [
      "using MCMC"
     ],
     "language": "python",
     "metadata": {},
     "outputs": [
      {
       "output_type": "stream",
       "stream": "stdout",
       "text": [
        "Loading MCMCLikModel model\n"
       ]
      },
      {
       "output_type": "stream",
       "stream": "stdout",
       "text": [
        "Loading IMH(logCandidate, randCandidate!) sampler\n",
        "Loading RWM(scale, tuner) sampler\n",
        "Loading RAM(scale, rate) sampler\n",
        "Loading MALA(driftStep, tuner) sampler\n",
        "Loading HMC(nLeaps, leapStep, tuner) sampler\n",
        "Loading HMCDA(rate, len, shrinkage, t0, step) sampler\n",
        "Loading NUTS(maxdoublings, tuner) sampler"
       ]
      },
      {
       "output_type": "stream",
       "stream": "stdout",
       "text": [
        "\n",
        "Loading SMMALA(driftStep, tuner) sampler\n",
        "Loading PMALA(driftStep, tuner) sampler\n",
        "Loading RMHMC(nLeaps, leapStep, nNewton, tuner) sampler\n",
        "Loading SliceSampler(widths, stepout)\n",
        "Loading SerialMC(steps, burnin, thinning) runner"
       ]
      },
      {
       "output_type": "stream",
       "stream": "stdout",
       "text": [
        "\n",
        "Loading SerialTempMC(steps, burnin, swapPeriod) runner\n",
        "Loading SeqMC(steps, burnin, trigger) runner\n"
       ]
      }
     ],
     "prompt_number": 1
    },
    {
     "cell_type": "code",
     "collapsed": false,
     "input": [
      "mymodel1 = model(v-> -dot(v,v), init=ones(3))  "
     ],
     "language": "python",
     "metadata": {},
     "outputs": [
      {
       "ename": "LoadError",
       "evalue": ".+= not defined\nwhile loading In[2], in expression starting on line 1",
       "output_type": "pyerr",
       "traceback": [
        ".+= not defined\nwhile loading In[2], in expression starting on line 1",
        " in ispartition at /Users/david/.julia/v0.3/MCMC/src/modellers/models.jl:12",
        " in MCMCLikelihoodModel at /Users/david/.julia/v0.3/MCMC/src/modellers/MCMCLikModel.jl:40",
        " in MCMCLikelihoodModel at /Users/david/.julia/v0.3/MCMC/src/modellers/MCMCLikModel.jl:145",
        " in model at /Users/david/.julia/v0.3/MCMC/src/modellers/models.jl:28"
       ]
      }
     ],
     "prompt_number": 2
    },
    {
     "cell_type": "code",
     "collapsed": false,
     "input": [
      "Pkg.update()"
     ],
     "language": "python",
     "metadata": {},
     "outputs": [
      {
       "output_type": "stream",
       "stream": "stderr",
       "text": [
        "INFO: Updating METADATA..."
       ]
      },
      {
       "output_type": "stream",
       "stream": "stderr",
       "text": [
        "\n"
       ]
      },
      {
       "output_type": "stream",
       "stream": "stderr",
       "text": [
        "INFO: Updating cache of GLM..."
       ]
      },
      {
       "output_type": "stream",
       "stream": "stderr",
       "text": [
        "\n"
       ]
      },
      {
       "output_type": "stream",
       "stream": "stderr",
       "text": [
        "INFO: Updating cache of Compose..."
       ]
      },
      {
       "output_type": "stream",
       "stream": "stderr",
       "text": [
        "\n"
       ]
      },
      {
       "output_type": "stream",
       "stream": "stderr",
       "text": [
        "INFO: Updating cache of Gadfly...\n"
       ]
      },
      {
       "output_type": "stream",
       "stream": "stderr",
       "text": [
        "INFO: INFO: INFO: INFO: INFO: INFO: INFO: Updating Gadfly...INFO: INFO: INFO: INFO: "
       ]
      },
      {
       "output_type": "stream",
       "stream": "stderr",
       "text": [
        "Updating SmoothingKernels...Updating DataFramesMeta.jl...Updating DataFrameUtils...Updating GLMNet...Updating Judo...Updating Autoreload...\n",
        "Updating TopicModels...Updating DualNumbers2...Updating SimpleML...Updating TicTacToe...\n",
        "\n",
        "\n",
        "\n",
        "\n",
        "\n",
        "\n",
        "\n",
        "\n",
        "\n",
        "INFO: INFO: Updating NearestNeighbors...Updating JudoDavid...\n",
        "\n"
       ]
      },
      {
       "output_type": "stream",
       "stream": "stderr",
       "text": [
        "INFO: Computing changes..."
       ]
      },
      {
       "output_type": "stream",
       "stream": "stderr",
       "text": [
        "\n"
       ]
      },
      {
       "output_type": "stream",
       "stream": "stderr",
       "text": [
        "INFO: Upgrading Compose: v0.1.27 => v0.1.28\n"
       ]
      },
      {
       "output_type": "stream",
       "stream": "stderr",
       "text": [
        "INFO: Upgrading GLM: v0.3.0 => v0.3.1"
       ]
      },
      {
       "output_type": "stream",
       "stream": "stderr",
       "text": [
        "\n"
       ]
      }
     ],
     "prompt_number": 5
    },
    {
     "cell_type": "code",
     "collapsed": false,
     "input": [
      "Pkg.status()"
     ],
     "language": "python",
     "metadata": {},
     "outputs": [
      {
       "output_type": "stream",
       "stream": "stdout",
       "text": [
        "53 required packages:\n"
       ]
      },
      {
       "output_type": "stream",
       "stream": "stdout",
       "text": [
        " - ArgParse                      0.2.8\n",
        " - Autoreload                    0.2.0              master\n",
        " - CRF                           0.0.0\n",
        " - Cairo                         0.2.12\n",
        " - Calculus                      0.1.3\n",
        " - Cartesian                     0.1.5\n",
        " - Cbc                           0.0.6\n",
        " - Church                        0.0.1\n",
        " - Clp                           0.0.6\n",
        " - Clustering                    0.2.5\n",
        " - Color                         0.2.8\n",
        " - Compose                       0.1.28\n",
        " - DataArrays                    0.1.3\n",
        " - DataFrames                    0.5.3\n",
        " - Debug                         0.0.0\n",
        " - DimensionalityReduction       0.1.0\n",
        " - Distance                      0.3.1\n",
        " - Distributions                 0.4.2\n",
        " - DualNumbers                   0.0.1\n",
        " - FactCheck                     0.1.2\n",
        " - FunctionalUtils               0.0.0\n",
        " - GLM                           0.3.1\n",
        " - GLPK                          0.2.10\n",
        " - GLPKMathProgInterface         0.1.4\n",
        " - Gadfly                        0.2.6              master\n",
        " - Graphs                        0.4.1\n",
        " - Gurobi                        0.1.16\n",
        " - HDF5                          0.2.20\n",
        " - IJulia                        0.1.4\n",
        " - Ipopt                         0.0.0\n",
        " - JSON                          0.3.5\n",
        " - JuMP                          0.4.0\n",
        " - Languages                     0.0.1\n",
        " - MAT                           0.2.3\n",
        " - MCMC                          0.0.4\n",
        " - MLBase                        0.3.5\n",
        " - MathProgBase                  0.1.6\n",
        " - Memoize                       0.0.0\n",
        " - Mosek                         0.0.1\n",
        " - Mustache                      0.0.3\n",
        " - NLopt                         0.0.3\n",
        " - NMF                           0.2.3\n",
        " - Optim                         0.2.0\n",
        " - Options                       0.2.2\n",
        " - RDatasets                     0.1.1\n",
        " - SVM                           0.0.0\n",
        " - Stats       "
       ]
      },
      {
       "output_type": "stream",
       "stream": "stdout",
       "text": [
        "                  0.1.0\n",
        " - StatsBase                     0.3.9\n",
        " - TimeModels                    0.0.1\n",
        " - TimeSeries                    0.3.7\n",
        " - YAML                          0.1.7\n",
        " - ZMQ                           0.1.9\n",
        " - kNN                           0.0.0\n",
        "37 additional packages:\n",
        " - ArrayViews                    0.4.2\n",
        " - BinDeps                       0.2.12\n",
        " - Blocks                        0.0.2\n",
        " - Codecs                        0.1.0\n",
        " - DataFrameUtils                0.0.0-             master (unregistered)\n",
        " - DataFramesMeta.jl             0.0.0-             master (unregistered)\n",
        " - DataStructures                0.2.10\n",
        " - Datetime                      0.1.2\n",
        " - DualNumbers2                  0.0.0-             master (unregistered)\n",
        " - GLMNet                        0.0.2+             "
       ]
      },
      {
       "output_type": "stream",
       "stream": "stdout",
       "text": [
        "master\n",
        " - GZip                          0.2.12\n",
        " - Hexagons                      0.0.1\n",
        " - Homebrew                      0.0.6\n",
        " - IniFile                       0.2.2\n",
        " - Iterators                     0.1.2\n",
        " - Judo                          0.0.0-             extra-pandocargs (unregistered)\n",
        " - JudoDavid                     0.0.0-             master (unregistered)\n",
        " - LazySequences                 0.1.0\n",
        " - Loess                         0.0.2\n",
        " - NearestNeighbors              0.0.0-             master (unregistered)\n",
        " - Nettle                        0.1.3\n",
        " - NumericExtensions             0.6.0\n",
        " - NumericFuns                   0.2.1\n",
        " - PDMats                        0.1.1\n",
        " - REPLCompletions               0.0.0\n",
        " - ReverseDiffSource             0.0.3\n",
        " - SimpleML                      0.0.0-             master"
       ]
      },
      {
       "output_type": "stream",
       "stream": "stdout",
       "text": [
        " (unregistered)\n",
        " - SmoothingKernels              0.0.0+             master\n",
        " - SortingAlgorithms             0.0.1\n",
        " - SpatialStats.jl               0.0.0-             master (unregistered, dirty)\n",
        " - TextWrap                      0.1.2\n",
        " - TicTacToe                     0.0.0-             master (unregistered)\n",
        " - Tk                            0.2.11\n",
        " - TopicModels                   0.0.0+             master"
       ]
      },
      {
       "output_type": "stream",
       "stream": "stdout",
       "text": [
        "\n",
        " - URIParser                     0.0.1\n",
        " - Winston                       0.9.0\n",
        " - Zlib                          0.1.5\n"
       ]
      }
     ],
     "prompt_number": 6
    },
    {
     "cell_type": "code",
     "collapsed": false,
     "input": [],
     "language": "python",
     "metadata": {},
     "outputs": []
    }
   ],
   "metadata": {}
  }
 ]
}