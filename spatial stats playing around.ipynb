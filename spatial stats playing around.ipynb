{
 "metadata": {
  "language": "Julia",
  "name": ""
 },
 "nbformat": 3,
 "nbformat_minor": 0,
 "worksheets": [
  {
   "cells": [
    {
     "cell_type": "code",
     "collapsed": false,
     "input": [
      "using Distance\n",
      "xtrain = rand(200)\n",
      "xtest = [[0:.1:1]';repeat([0],inner=[11])']\n",
      "pairwise(Euclidean(), xtest, xtest)\n"
     ],
     "language": "python",
     "metadata": {},
     "outputs": [
      {
       "metadata": {},
       "output_type": "pyout",
       "prompt_number": 26,
       "text": [
        "11x11 Array{Float64,2}:\n",
        " 0.0  0.1  0.2  0.3  0.4  0.5  0.6  0.7  0.8  0.9  1.0\n",
        " 0.1  0.0  0.1  0.2  0.3  0.4  0.5  0.6  0.7  0.8  0.9\n",
        " 0.2  0.1  0.0  0.1  0.2  0.3  0.4  0.5  0.6  0.7  0.8\n",
        " 0.3  0.2  0.1  0.0  0.1  0.2  0.3  0.4  0.5  0.6  0.7\n",
        " 0.4  0.3  0.2  0.1  0.0  0.1  0.2  0.3  0.4  0.5  0.6\n",
        " 0.5  0.4  0.3  0.2  0.1  0.0  0.1  0.2  0.3  0.4  0.5\n",
        " 0.6  0.5  0.4  0.3  0.2  0.1  0.0  0.1  0.2  0.3  0.4\n",
        " 0.7  0.6  0.5  0.4  0.3  0.2  0.1  0.0  0.1  0.2  0.3\n",
        " 0.8  0.7  0.6  0.5  0.4  0.3  0.2  0.1  0.0  0.1  0.2\n",
        " 0.9  0.8  0.7  0.6  0.5  0.4  0.3  0.2  0.1  0.0  0.1\n",
        " 1.0  0.9  0.8  0.7  0.6  0.5  0.4  0.3  0.2  0.1  0.0"
       ]
      }
     ],
     "prompt_number": 26
    },
    {
     "cell_type": "code",
     "collapsed": false,
     "input": [],
     "language": "python",
     "metadata": {},
     "outputs": [
      {
       "metadata": {},
       "output_type": "pyout",
       "prompt_number": 22,
       "text": [
        "1x11 Array{Int64,2}:\n",
        " 0  0  0  0  0  0  0  0  0  0  0"
       ]
      }
     ],
     "prompt_number": 22
    },
    {
     "cell_type": "code",
     "collapsed": false,
     "input": [
      "MvNormal(mu, C)     # multivariate normal distribution with mean mu and covariance C.\n"
     ],
     "language": "python",
     "metadata": {},
     "outputs": []
    }
   ],
   "metadata": {}
  }
 ]
}