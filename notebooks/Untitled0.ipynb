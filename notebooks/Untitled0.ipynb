{
 "metadata": {
  "language": "Julia",
  "name": "",
  "signature": "sha256:097da7adf6facbdaae0976cf5516d1e5199978c3dc34c317e17876833d397721"
 },
 "nbformat": 3,
 "nbformat_minor": 0,
 "worksheets": [
  {
   "cells": [
    {
     "cell_type": "code",
     "collapsed": false,
     "input": [
      "(5^2)([1:10].^2)"
     ],
     "language": "python",
     "metadata": {},
     "outputs": [
      {
       "ename": "LoadError",
       "evalue": "type: apply: expected Function, got Int64\nwhile loading In[8], in expression starting on line 1",
       "output_type": "pyerr",
       "traceback": [
        "type: apply: expected Function, got Int64\nwhile loading In[8], in expression starting on line 1"
       ]
      }
     ],
     "prompt_number": 8
    },
    {
     "cell_type": "code",
     "collapsed": false,
     "input": [
      "5.*10"
     ],
     "language": "python",
     "metadata": {},
     "outputs": [
      {
       "metadata": {},
       "output_type": "pyout",
       "prompt_number": 4,
       "text": [
        "50"
       ]
      }
     ],
     "prompt_number": 4
    },
    {
     "cell_type": "code",
     "collapsed": false,
     "input": [
      "M = diagm([1:10])"
     ],
     "language": "python",
     "metadata": {},
     "outputs": [
      {
       "metadata": {},
       "output_type": "pyout",
       "prompt_number": 38,
       "text": [
        "10x10 Array{Int64,2}:\n",
        " 1  0  0  0  0  0  0  0  0   0\n",
        " 0  2  0  0  0  0  0  0  0   0\n",
        " 0  0  3  0  0  0  0  0  0   0\n",
        " 0  0  0  4  0  0  0  0  0   0\n",
        " 0  0  0  0  5  0  0  0  0   0\n",
        " 0  0  0  0  0  6  0  0  0   0\n",
        " 0  0  0  0  0  0  7  0  0   0\n",
        " 0  0  0  0  0  0  0  8  0   0\n",
        " 0  0  0  0  0  0  0  0  9   0\n",
        " 0  0  0  0  0  0  0  0  0  10"
       ]
      }
     ],
     "prompt_number": 38
    },
    {
     "cell_type": "code",
     "collapsed": false,
     "input": [
      "trace(inv(M))"
     ],
     "language": "python",
     "metadata": {},
     "outputs": [
      {
       "metadata": {},
       "output_type": "pyout",
       "prompt_number": 40,
       "text": [
        "2.9289682539682538"
       ]
      }
     ],
     "prompt_number": 40
    },
    {
     "cell_type": "code",
     "collapsed": false,
     "input": [],
     "language": "python",
     "metadata": {},
     "outputs": []
    }
   ],
   "metadata": {}
  }
 ]
}