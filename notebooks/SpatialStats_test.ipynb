{
 "metadata": {
  "language": "Julia",
  "name": "",
  "signature": "sha256:cff6d8710337b854fc5e0dfc5a937e4fc9dac2e8ab68dda92ed932dd55bd0bcf"
 },
 "nbformat": 3,
 "nbformat_minor": 0,
 "worksheets": [
  {
   "cells": [
    {
     "cell_type": "code",
     "collapsed": false,
     "input": [
      "using Distributions\n",
      "using SpatialStats\n",
      "reload(\"../src/SpatialStats.jl\")\n",
      "s = SpatialStats"
     ],
     "language": "python",
     "metadata": {},
     "outputs": [
      {
       "output_type": "stream",
       "stream": "stderr",
       "text": [
        "Warning: using JuMP.show in module Compose conflicts with an existing identifier.\n"
       ]
      },
      {
       "metadata": {},
       "output_type": "pyout",
       "prompt_number": 1,
       "text": [
        "SpatialStats"
       ]
      }
     ],
     "prompt_number": 1
    },
    {
     "cell_type": "code",
     "collapsed": false,
     "input": [
      "ntrain=15\n",
      "xtrain = rand(ntrain)\n",
      "xtest = [0:.01:1]\n",
      "cov = s.SquaredExponentialCov(length=.2, sigma_spatial = 1, sigma_nonspatial=0.2)\n",
      "C = s.selfcov(cov, xtrain)\n",
      "y = rand(MvNormal(C));"
     ],
     "language": "python",
     "metadata": {},
     "outputs": [
      {
       "output_type": "stream",
       "stream": "stderr",
       "text": [
        "Warning: replacing module SpatialStats\n"
       ]
      }
     ],
     "prompt_number": 2
    },
    {
     "cell_type": "code",
     "collapsed": false,
     "input": [
      "s.fit(xtrain, y, cov)"
     ],
     "language": "python",
     "metadata": {},
     "outputs": []
    },
    {
     "cell_type": "code",
     "collapsed": false,
     "input": [],
     "language": "python",
     "metadata": {},
     "outputs": []
    }
   ],
   "metadata": {}
  }
 ]
}