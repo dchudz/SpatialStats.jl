{
 "metadata": {
  "language": "Julia",
  "name": "",
  "signature": "sha256:d799c2a1119d3d85c9bca90e682e339e1f074f00ef1c8fd7afdee1aebaf4e7e1"
 },
 "nbformat": 3,
 "nbformat_minor": 0,
 "worksheets": [
  {
   "cells": [
    {
     "cell_type": "code",
     "collapsed": false,
     "input": [
      "using Optim\n",
      "\n",
      "function rosenbrock_with_gradient(g, x::Vector)\n",
      "  d1 = 1.0 - x[1]\n",
      "  d2 = x[2] - x[1]^2\n",
      "  if !(g === nothing)\n",
      "    g[1] = -2.0*d1 - 400.0*d2*x[1]\n",
      "    g[2] = 200.0*d2\n",
      "  end\n",
      "  val = d1^2 + 100.0 * d2^2\n",
      "  return val\n",
      "end\n",
      "\n",
      "using OptionsMod\n",
      "ops = @options display=Optim.ITER fcountmax=1000 tol=1e-5"
     ],
     "language": "python",
     "metadata": {},
     "outputs": [
      {
       "metadata": {},
       "output_type": "pyout",
       "prompt_number": 1,
       "text": [
        "display = 2, fcountmax = 1000, tol = 1.0e-5 (CheckError)"
       ]
      }
     ],
     "prompt_number": 1
    },
    {
     "cell_type": "code",
     "collapsed": false,
     "input": [
      "l = [1.25, -2.1]\n",
      "u = [Inf, Inf]\n",
      "x0 = [2.0, 2.0]\n",
      "x, fval, fcount, converged = fminbox(rosenbrock_with_gradient, x0, l, u)\n",
      "x"
     ],
     "language": "python",
     "metadata": {},
     "outputs": [
      {
       "metadata": {},
       "output_type": "pyout",
       "prompt_number": 2,
       "text": [
        "2-element Array{Float64,1}:\n",
        " 1.25  \n",
        " 1.5625"
       ]
      }
     ],
     "prompt_number": 2
    },
    {
     "cell_type": "code",
     "collapsed": false,
     "input": [
      "function rosenbrock(x::Vector)\n",
      "    return (1.0 - x[1])^2 + 100.0 * (x[2] - x[1]^2)^2\n",
      "end"
     ],
     "language": "python",
     "metadata": {},
     "outputs": [
      {
       "metadata": {},
       "output_type": "pyout",
       "prompt_number": 4,
       "text": [
        "rosenbrock (generic function with 1 method)"
       ]
      }
     ],
     "prompt_number": 4
    },
    {
     "cell_type": "code",
     "collapsed": false,
     "input": [
      "using ForwardDiff\n",
      "\n",
      "g! = forwarddiff_gradient!(rosenbrock, Float64, fadtype=:typed)"
     ],
     "language": "python",
     "metadata": {},
     "outputs": [
      {
       "metadata": {},
       "output_type": "pyout",
       "prompt_number": 5,
       "text": [
        "g! (generic function with 1 method)"
       ]
      }
     ],
     "prompt_number": 5
    },
    {
     "cell_type": "code",
     "collapsed": false,
     "input": [
      "function rosenbrock_with_gradient2(g, x::Vector)\n",
      "  d1 = 1.0 - x[1]\n",
      "  d2 = x[2] - x[1]^2\n",
      "  if !(g === nothing)\n",
      "    g!(x, g)\n",
      "  end\n",
      "  val = d1^2 + 100.0 * d2^2\n",
      "  return val\n",
      "end"
     ],
     "language": "python",
     "metadata": {},
     "outputs": [
      {
       "metadata": {},
       "output_type": "pyout",
       "prompt_number": 6,
       "text": [
        "rosenbrock_with_gradient2 (generic function with 1 method)"
       ]
      }
     ],
     "prompt_number": 6
    },
    {
     "cell_type": "code",
     "collapsed": false,
     "input": [
      "x, fval, fcount, converged = fminbox(rosenbrock_with_gradient2, x0, l, u)\n",
      "x"
     ],
     "language": "python",
     "metadata": {},
     "outputs": [
      {
       "metadata": {},
       "output_type": "pyout",
       "prompt_number": 7,
       "text": [
        "2-element Array{Float64,1}:\n",
        " 1.25  \n",
        " 1.5625"
       ]
      }
     ],
     "prompt_number": 7
    },
    {
     "cell_type": "code",
     "collapsed": false,
     "input": [
      "fval"
     ],
     "language": "python",
     "metadata": {},
     "outputs": [
      {
       "metadata": {},
       "output_type": "pyout",
       "prompt_number": 8,
       "text": [
        "6-element Array{Array{Float64,1},1}:\n",
        " [401.0,167.936,3.67247,0.335848,0.335921,0.457621,1.01734,0.85334,1.30016,1.28121,1.28101,1.281,1.27518,1.27517,1.27518,1.2752,1.2752]                                                  \n",
        " [1.2752,1.27489,1.27003,1.06056,0.933235,0.713928,0.416579,0.381403,0.189485,0.171781,0.143928,0.0704587,0.0671039,0.0633538,0.0636324,0.0637455,0.0637554,0.063762,0.0637651,0.0637652]\n",
        " [0.0637652,0.0636639,0.0626101,0.0625031,0.0625016,0.0625013,0.0625013,0.0625013,0.0625013]                                                                                             \n",
        " [0.0625013,0.0625,0.0625,0.0625,0.0625,0.0625,0.0625,0.0625]                                                                                                                            \n",
        " [0.0625,0.0625,0.0625]                                                                                                                                                                  \n",
        " [0.0625,0.0625]                                                                                                                                                                         "
       ]
      }
     ],
     "prompt_number": 8
    },
    {
     "cell_type": "code",
     "collapsed": false,
     "input": [
      "rosenbrock(x)"
     ],
     "language": "python",
     "metadata": {},
     "outputs": [
      {
       "metadata": {},
       "output_type": "pyout",
       "prompt_number": 9,
       "text": [
        "0.06250000000004531"
       ]
      }
     ],
     "prompt_number": 9
    },
    {
     "cell_type": "code",
     "collapsed": false,
     "input": [
      "rosenbrock([1.26,1.7])"
     ],
     "language": "python",
     "metadata": {},
     "outputs": [
      {
       "metadata": {},
       "output_type": "pyout",
       "prompt_number": 10,
       "text": [
        "1.3309759999999964"
       ]
      }
     ],
     "prompt_number": 10
    },
    {
     "cell_type": "code",
     "collapsed": false,
     "input": [],
     "language": "python",
     "metadata": {},
     "outputs": []
    }
   ],
   "metadata": {}
  }
 ]
}