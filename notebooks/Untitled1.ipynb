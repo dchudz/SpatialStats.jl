{
 "metadata": {
  "language": "Julia",
  "name": ""
 },
 "nbformat": 3,
 "nbformat_minor": 0,
 "worksheets": [
  {
   "cells": [
    {
     "cell_type": "code",
     "collapsed": false,
     "input": [
      "using Optim\n",
      "\n",
      "function rosenbrock(x::Vector)\n",
      "    return (1.0 - x[1])^2 + 100.0 * (x[2] - x[1]^2)^2\n",
      "end\n"
     ],
     "language": "python",
     "metadata": {},
     "outputs": [
      {
       "metadata": {},
       "output_type": "pyout",
       "prompt_number": 1,
       "text": [
        "rosenbrock (generic function with 1 method)"
       ]
      }
     ],
     "prompt_number": 1
    },
    {
     "cell_type": "code",
     "collapsed": false,
     "input": [
      "fminbox(rosenbrock, [0.0, 0.0], method = :l_bfgs, autodiff=true)\n"
     ],
     "language": "python",
     "metadata": {},
     "outputs": [
      {
       "metadata": {},
       "output_type": "pyout",
       "prompt_number": 10,
       "text": [
        "Results of Optimization Algorithm\n",
        " * Algorithm: L-BFGS\n",
        " * Starting Point: 0\n",
        "0\n",
        "\n",
        " * Minimum: 1.0000000000000007\n",
        "1.000000000000001\n",
        "\n",
        " * Value of Function at Minimum: 0.000000\n",
        " * Iterations: 21\n",
        " * Convergence: true\n",
        "   * |x - x'| < 1.0e-32: false\n",
        "   * |f(x) - f(x')| / |f(x)| < 1.0e-08: false\n",
        "   * |g(x)| < 1.0e-08: true\n",
        "   * Exceeded Maximum Number of Iterations: false\n",
        " * Objective Function Calls: 90\n",
        " * Gradient Call: 90"
       ]
      }
     ],
     "prompt_number": 10
    },
    {
     "cell_type": "code",
     "collapsed": false,
     "input": [
      "edit(nnls)"
     ],
     "language": "python",
     "metadata": {},
     "outputs": [],
     "prompt_number": 12
    },
    {
     "cell_type": "code",
     "collapsed": false,
     "input": [],
     "language": "python",
     "metadata": {},
     "outputs": []
    }
   ],
   "metadata": {}
  }
 ]
}