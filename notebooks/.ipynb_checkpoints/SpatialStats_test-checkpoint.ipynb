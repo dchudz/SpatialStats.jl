{
 "metadata": {
  "language": "Julia",
  "name": "",
  "signature": "sha256:0d1495ed35f70777aa224cda85daf46fa56baf34dfaf6471a84292c29ecaa90d"
 },
 "nbformat": 3,
 "nbformat_minor": 0,
 "worksheets": [
  {
   "cells": [
    {
     "cell_type": "code",
     "collapsed": false,
     "input": [
      "using Distributions\n",
      "using SpatialStats\n",
      "reload(\"../src/SpatialStats.jl\")\n",
      "s = SpatialStats"
     ],
     "language": "python",
     "metadata": {},
     "outputs": [
      {
       "metadata": {},
       "output_type": "pyout",
       "prompt_number": 7,
       "text": [
        "SpatialStats"
       ]
      },
      {
       "output_type": "stream",
       "stream": "stderr",
       "text": [
        "Warning: replacing module SpatialStats\n"
       ]
      }
     ],
     "prompt_number": 7
    },
    {
     "cell_type": "code",
     "collapsed": false,
     "input": [
      "ntrain=15\n",
      "xtrain = rand(ntrain)\n",
      "xtest = [0:.01:1]\n",
      "cov = s.SquaredExponentialCov(length=.2, sigma_spatial = 1, sigma_nonspatial=0.2)\n",
      "C = s.selfcov(cov, xtrain)\n",
      "y = rand(MvNormal(C));"
     ],
     "language": "python",
     "metadata": {},
     "outputs": [],
     "prompt_number": 8
    },
    {
     "cell_type": "code",
     "collapsed": false,
     "input": [
      "using OptionsMod\n",
      "ops = @options display=Optim.ITER fcountmax=10\n",
      "result = s.fit(xtrain, y, cov, ops)"
     ],
     "language": "python",
     "metadata": {},
     "outputs": []
    },
    {
     "cell_type": "code",
     "collapsed": false,
     "input": [
      "-logpdf(MvNormal(s.selfcov(s.SquaredExponentialCov([1.40502e-15,1.28539e-9,8.48931e-21]), xtrain)), y)"
     ],
     "language": "python",
     "metadata": {},
     "outputs": [
      {
       "metadata": {},
       "output_type": "pyout",
       "prompt_number": 6,
       "text": [
        "4.2650463725717416e30"
       ]
      }
     ],
     "prompt_number": 6
    },
    {
     "cell_type": "code",
     "collapsed": false,
     "input": [],
     "language": "python",
     "metadata": {},
     "outputs": []
    }
   ],
   "metadata": {}
  }
 ]
}