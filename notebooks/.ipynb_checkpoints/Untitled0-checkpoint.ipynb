{
 "metadata": {
  "name": "",
  "signature": "sha256:3ce2f16d7948213a5ad7f5d090a60928f4cd126de2f7cbb6b4b51aacb6c93f91"
 },
 "nbformat": 3,
 "nbformat_minor": 0,
 "worksheets": []
}