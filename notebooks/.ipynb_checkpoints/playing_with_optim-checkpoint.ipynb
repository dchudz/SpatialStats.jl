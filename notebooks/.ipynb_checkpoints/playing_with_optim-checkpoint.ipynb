{
 "metadata": {
  "language": "Julia",
  "name": "",
  "signature": "sha256:fd671063bc710aeef58f746c7db4bb3db0756b14c82bea685337aca8c6cc0bac"
 },
 "nbformat": 3,
 "nbformat_minor": 0,
 "worksheets": [
  {
   "cells": [
    {
     "cell_type": "code",
     "collapsed": false,
     "input": [
      "using Optim\n",
      "\n",
      "function rosenbrock_with_gradient(g, x::Vector)\n",
      "  d1 = 1.0 - x[1]\n",
      "  d2 = x[2] - x[1]^2\n",
      "  if !(g === nothing)\n",
      "    g[1] = -2.0*d1 - 400.0*d2*x[1]\n",
      "    g[2] = 200.0*d2\n",
      "  end\n",
      "  val = d1^2 + 100.0 * d2^2\n",
      "  return val\n",
      "end\n",
      "\n",
      "using OptionsMod\n",
      "ops = @options display=Optim.ITER fcountmax=1000 tol=1e-5"
     ],
     "language": "python",
     "metadata": {},
     "outputs": [
      {
       "metadata": {},
       "output_type": "pyout",
       "prompt_number": 11,
       "text": [
        "display = 2, fcountmax = 1000, tol = 1.0e-5 (CheckError)"
       ]
      }
     ],
     "prompt_number": 11
    },
    {
     "cell_type": "code",
     "collapsed": false,
     "input": [
      "l = [1.25, -2.1]\n",
      "u = [Inf, Inf]\n",
      "x0 = [2.0, 2.0]\n",
      "x, fval, fcount, converged = fminbox(rosenbrock, x0, l, u)\n",
      "x"
     ],
     "language": "python",
     "metadata": {},
     "outputs": [
      {
       "metadata": {},
       "output_type": "pyout",
       "prompt_number": 17,
       "text": [
        "2-element Array{Float64,1}:\n",
        " 1.25  \n",
        " 1.5625"
       ]
      }
     ],
     "prompt_number": 17
    },
    {
     "cell_type": "code",
     "collapsed": false,
     "input": [
      "function rosenbrock(x::Vector)\n",
      "    return (1.0 - x[1])^2 + 100.0 * (x[2] - x[1]^2)^2\n",
      "end"
     ],
     "language": "python",
     "metadata": {},
     "outputs": [
      {
       "metadata": {},
       "output_type": "pyout",
       "prompt_number": 18,
       "text": [
        "rosenbrock (generic function with 2 methods)"
       ]
      }
     ],
     "prompt_number": 18
    },
    {
     "cell_type": "code",
     "collapsed": false,
     "input": [
      "using ForwardDiff\n",
      "\n",
      "g! = forwarddiff_gradient!(rosenbrock, Float64, fadtype=:typed)"
     ],
     "language": "python",
     "metadata": {},
     "outputs": [
      {
       "metadata": {},
       "output_type": "pyout",
       "prompt_number": 22,
       "text": [
        "g! (generic function with 1 method)"
       ]
      }
     ],
     "prompt_number": 22
    },
    {
     "cell_type": "code",
     "collapsed": false,
     "input": [
      "function rosenbrock_with_gradient2(g, x::Vector)\n",
      "  d1 = 1.0 - x[1]\n",
      "  d2 = x[2] - x[1]^2\n",
      "  if !(g === nothing)\n",
      "    gg!(x, g)\n",
      "  end\n",
      "  val = d1^2 + 100.0 * d2^2\n",
      "  return val\n",
      "end"
     ],
     "language": "python",
     "metadata": {},
     "outputs": []
    }
   ],
   "metadata": {}
  }
 ]
}